{
  "nbformat": 4,
  "nbformat_minor": 0,
  "metadata": {
    "colab": {
      "provenance": [],
      "authorship_tag": "ABX9TyMgMcNcv9H1wORI97f0RlS8",
      "include_colab_link": true
    },
    "kernelspec": {
      "name": "python3",
      "display_name": "Python 3"
    },
    "language_info": {
      "name": "python"
    }
  },
  "cells": [
    {
      "cell_type": "markdown",
      "metadata": {
        "id": "view-in-github",
        "colab_type": "text"
      },
      "source": [
        "<a href=\"https://colab.research.google.com/github/ChrysKoum/NASA-Space-Apps-Challenge-2023/blob/main/Programs/Data_Cleaning.ipynb\" target=\"_parent\"><img src=\"https://colab.research.google.com/assets/colab-badge.svg\" alt=\"Open In Colab\"/></a>"
      ]
    },
    {
      "cell_type": "code",
      "source": [
        "import pandas as pd\n",
        "import numpy as np\n",
        "\n",
        "def clean_and_impute(input_file_path, output_file_path):\n",
        "    # Read the data into a pandas dataframe\n",
        "    df = pd.read_csv(input_file_path, delim_whitespace=True, header=None)\n",
        "    df.columns = ['Year', 'Day', 'Hour' ,'Minute','Bx','By','Bz','Flow_Speed', 'Proton_Density','Temperature']\n",
        "    # Identify and replace placeholder values with NaN\n",
        "    placeholders = [9999.99, 9999.99, 99999.9, 9999999.0, 1000.0]\n",
        "    df.replace(placeholders, np.nan, inplace=True)\n",
        "\n",
        "    # Impute missing data using linear interpolation\n",
        "    df.interpolate(method='linear', inplace=True, limit_direction='forward')\n",
        "\n",
        "    # Save the imputed data\n",
        "    df.to_csv(output_file_path, sep='\\t', index=False, float_format='%.1f')\n",
        "\n",
        "    print(f\"Cleaned and imputed data has been saved to: {output_file_path}\")\n",
        "\n",
        "# Provide your file paths here\n",
        "input_file_path = \"wind_def_2022.txt\"\n",
        "output_file_path = \"wind_def_2022_clean.txt\"\n",
        "clean_and_impute(input_file_path, output_file_path)\n"
      ],
      "metadata": {
        "colab": {
          "base_uri": "https://localhost:8080/"
        },
        "id": "dvErhh8nyO9d",
        "outputId": "d063aa51-e117-494f-8f6d-1ddc5f91801c"
      },
      "execution_count": null,
      "outputs": [
        {
          "output_type": "stream",
          "name": "stdout",
          "text": [
            "Cleaned and imputed data has been saved to: wind_def_2022_clean_month_plus.txt\n"
          ]
        }
      ]
    },
    {
      "cell_type": "code",
      "execution_count": null,
      "metadata": {
        "colab": {
          "base_uri": "https://localhost:8080/"
        },
        "id": "Fr2dL2l5MSOk",
        "outputId": "5268adfd-43b4-44a4-b00e-80a11a9d1eb3"
      },
      "outputs": [
        {
          "output_type": "stream",
          "name": "stdout",
          "text": [
            "Cleaned and imputed data has been saved to: wind_def_2022_clean_month.txt\n"
          ]
        }
      ],
      "source": [
        "import pandas as pd\n",
        "import numpy as np\n",
        "from datetime import datetime\n",
        "\n",
        "def day_of_year_to_month_day(day, year):\n",
        "    date = datetime(year, 1, 1) + pd.DateOffset(days=day - 1)\n",
        "    return date.month, date.day\n",
        "\n",
        "def clean_and_impute(input_file_path, output_file_path):\n",
        "    # Read the data into a pandas dataframe\n",
        "    df = pd.read_csv(input_file_path, delim_whitespace=True)\n",
        "\n",
        "    # Extract year from the data (assuming the year is in the first column)\n",
        "    year = df['Year'].iloc[0]\n",
        "\n",
        "    # Compute the month and day from the day_of_year\n",
        "    df['Month'], df['day'] = zip(*df['Day'].apply(lambda x: day_of_year_to_month_day(x, year)))\n",
        "\n",
        "    # Insert the month column after the Year column\n",
        "    #df.insert(1, df['Month'])\n",
        "\n",
        "    # Drop the temporary month and day columns\n",
        "    df.drop([ 'Day'], axis=1, inplace=True)\n",
        "\n",
        "    # Save the imputed data\n",
        "    df.to_csv(output_file_path, sep='\\t', index=False, float_format='%.1f')\n",
        "\n",
        "    print(f\"Cleaned and imputed data has been saved to: {output_file_path}\")\n",
        "\n",
        "# Provide your file paths here\n",
        "input_file_path = \"wind_def_2022_clean.txt\"\n",
        "output_file_path = \"wind_def_2022_clean_month.txt\"\n",
        "clean_and_impute(input_file_path, output_file_path)\n"
      ]
    },
    {
      "cell_type": "code",
      "source": [
        "import pandas as pd\n",
        "import numpy as np\n",
        "\n",
        "def normilize(input_file_path, output_file_path):\n",
        "  # Read the data into a pandas dataframe\n",
        "  df = pd.read_csv(input_file_path, delim_whitespace=True)\n",
        "\n",
        "  # Format columns with leading zeros\n",
        "  df['day'] = df['day'].apply(lambda x: f'{x:02}')  # Format second column (days)\n",
        "  df['Month'] = df['Month'].apply(lambda x: f'{x:02}')  # Format third column (hours)\n",
        "  df['Hour'] = df['Hour'].apply(lambda x: f'{x:02}')  # Format fourth column (minutes)\n",
        "  df['Minute'] = df['Minute'].apply(lambda x: f'{x:02}')  # Format fourth column (minutes)\n",
        "\n",
        "  # Round the values to one decimal place\n",
        "  df = df.round(1)\n",
        "\n",
        "\n",
        "  # Save the imputed data\n",
        "  df.to_csv(output_file_path, sep='\\t', index=False, float_format='%.1f')\n",
        "\n",
        "  print(f\"Cleaned and imputed data has been saved to: {output_file_path}\")\n",
        "\n",
        "# Provide your file paths here\n",
        "input_file_path = \"wind_def_2019_clean_month.txt\"\n",
        "output_file_path = \"wind_def_2019_clean_month_sanitize.txt\"\n",
        "normilize(input_file_path, output_file_path)"
      ],
      "metadata": {
        "colab": {
          "base_uri": "https://localhost:8080/"
        },
        "id": "vMTukFj045gN",
        "outputId": "ae0d4406-81f0-4b90-e56a-5a7ef8f2ae89"
      },
      "execution_count": null,
      "outputs": [
        {
          "output_type": "stream",
          "name": "stdout",
          "text": [
            "Cleaned and imputed data has been saved to: ace_min_b2016_clean_month_sanitize.txt\n"
          ]
        }
      ]
    },
    {
      "cell_type": "code",
      "source": [],
      "metadata": {
        "id": "U_PTEPL36mRT"
      },
      "execution_count": null,
      "outputs": []
    }
  ]
}
